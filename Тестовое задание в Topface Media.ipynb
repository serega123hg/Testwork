{
 "cells": [
  {
   "cell_type": "markdown",
   "id": "9e21c575",
   "metadata": {},
   "source": [
    "### 1. Вопросы:\n",
    "#### 1) Как хорошо Вы владеете Python? Оцените свой уровень по шкале от 0 до 10, где 0 - совсем не знаю, 10 - владею в совершенстве."
   ]
  },
  {
   "cell_type": "markdown",
   "id": "173c98a0",
   "metadata": {},
   "source": [
    "Ответ: 7\n",
    "<br>\n",
    "Использовал множество библиотек, в частности хорошо владею такими библиотеками как numpy, pandas, sklearn, matplotlib, spacy, BeautifulSoup, requests. \n",
    "Работал с фреймворками flask, Django.\n",
    "Пробовал себя в машинном обучении и нейронных сетях"
   ]
  },
  {
   "cell_type": "markdown",
   "id": "0b7e2dfc",
   "metadata": {},
   "source": [
    "#### 2) Насколько хорошо Вы знаете продукт Microsoft Excel? Оцените свой уровень по шкале от 0 до 10, где 0 - совсем не знаю, 10 - владею в совершенстве."
   ]
  },
  {
   "cell_type": "markdown",
   "id": "c060f4e9",
   "metadata": {},
   "source": [
    "Ответ: 7\n",
    "<br>\n",
    "Строил когортный анализ, сводные таблицы, знаю различные формулы, разбираюсь в интерфейсе программы, писал макросы на VBA. Однако для ряда задач, например, для построения графиков, считаю для себя данный инструмент не самым удобным    "
   ]
  },
  {
   "cell_type": "markdown",
   "id": "a173563e",
   "metadata": {},
   "source": [
    "### 2. Задачи на логику:"
   ]
  },
  {
   "cell_type": "markdown",
   "id": "10df84d2",
   "metadata": {},
   "source": [
    "#### 1) Рекламная кампания стартовала вчера с дневным бюджетом 40 $. Половина бюджета была израсходована к полудню, а 80% оставшегося бюджета было потрачено между полуднем и временем закрытия. Сколько долларов не было потрачено?"
   ]
  },
  {
   "cell_type": "code",
   "execution_count": 1,
   "id": "990c2e81",
   "metadata": {},
   "outputs": [
    {
     "data": {
      "text/plain": [
       "20.0"
      ]
     },
     "execution_count": 1,
     "metadata": {},
     "output_type": "execute_result"
    }
   ],
   "source": [
    "# Изначальный бюджет равен 40$, следовательно найдем половину бюджета, оставшуюся к полудню:\n",
    "40 / 2"
   ]
  },
  {
   "cell_type": "code",
   "execution_count": 2,
   "id": "aee7fa4c",
   "metadata": {},
   "outputs": [
    {
     "data": {
      "text/plain": [
       "4.0"
      ]
     },
     "execution_count": 2,
     "metadata": {},
     "output_type": "execute_result"
    }
   ],
   "source": [
    "# После чего было потрачено ещё 80% бюджета от оставшихся 20$, следовательно не было потрачено 20% от 20$\n",
    "20 * 0.2"
   ]
  },
  {
   "cell_type": "markdown",
   "id": "42895bf2",
   "metadata": {},
   "source": [
    "Ответ: не было потрачено 4$"
   ]
  },
  {
   "cell_type": "markdown",
   "id": "f6b14f25",
   "metadata": {},
   "source": [
    "#### 2) 5 идентичных рекламных кампаний работали 24 дня по 6 часов в день, потрачено было 120 долларов. Сколько дней они работали бы на 216 долларов, если бы 9 одинаковых кампаний работали бы по 8 часов в день?"
   ]
  },
  {
   "cell_type": "code",
   "execution_count": 16,
   "id": "d8b1a6d5",
   "metadata": {},
   "outputs": [],
   "source": [
    "# Так как кампании одинаковые, примем, что они тратят идентичное количество долларов в час, тогда можно составить отношение:\n",
    "120 / (5 * 24 * 6) = 216 / (9 * x * 8)"
   ]
  },
  {
   "cell_type": "code",
   "execution_count": 21,
   "id": "f81e82c4",
   "metadata": {},
   "outputs": [],
   "source": [
    "# Решением данного уравнения будет: x = 18"
   ]
  },
  {
   "cell_type": "markdown",
   "id": "05b1c51c",
   "metadata": {},
   "source": [
    "Ответ: кампании бы работали 18 дней"
   ]
  },
  {
   "cell_type": "markdown",
   "id": "0341cece",
   "metadata": {},
   "source": [
    "#### 3) Дизайнеры создали 200 рекламных баннеров для двух рекламных кампаний. 80 из них не использовались ни в кампании No1, ни в кампании No2, 60 использовались только в кампании No1. И для каждого рекламного баннера, который использовался в обеих кампаниях, приходится 3 баннера, которые использовались только в кампании No2. Сколько баннеров было использовано в обеих рекламных кампаниях?"
   ]
  },
  {
   "cell_type": "code",
   "execution_count": 22,
   "id": "64b8154e",
   "metadata": {},
   "outputs": [
    {
     "data": {
      "text/plain": [
       "120"
      ]
     },
     "execution_count": 22,
     "metadata": {},
     "output_type": "execute_result"
    }
   ],
   "source": [
    "# Для начала отсечем 80 баннеров, не использовавшихся ни в одной из кампаний\n",
    "200 - 80"
   ]
  },
  {
   "cell_type": "code",
   "execution_count": 23,
   "id": "01782972",
   "metadata": {},
   "outputs": [
    {
     "data": {
      "text/plain": [
       "60"
      ]
     },
     "execution_count": 23,
     "metadata": {},
     "output_type": "execute_result"
    }
   ],
   "source": [
    "# Далее отсечем 60 баннеров, использовавшихся только в кампании 1:\n",
    "120 - 60"
   ]
  },
  {
   "cell_type": "code",
   "execution_count": null,
   "id": "e4aae7ac",
   "metadata": {},
   "outputs": [],
   "source": [
    "# Далее баннеры делятся на 2 группы: те, что использовались в обеих кампаниях, и те, \n",
    "# что использовались только в кампании 2. Причем, пересечений между данными группами нет, то есть если баннер использовался \n",
    "# в обеих кампаниях, то он не принадлежит к группе баннеров, что использовались только во второй кампании. Тогда можно\n",
    "# составить уравнение:\n",
    "x + x * 3 = 60 \n",
    "# где x - количество баннеров, использованных в обеих кампаниях.\n",
    "# Решая данное уравнение получим, что в обеих кампаниях использовалось 15 объявлений\n",
    "# Следовательно, можно получить сколько объявлений использовалось только во 2 кампании:"
   ]
  },
  {
   "cell_type": "code",
   "execution_count": 24,
   "id": "1c958a47",
   "metadata": {},
   "outputs": [
    {
     "data": {
      "text/plain": [
       "45"
      ]
     },
     "execution_count": 24,
     "metadata": {},
     "output_type": "execute_result"
    }
   ],
   "source": [
    "60 - 15"
   ]
  },
  {
   "cell_type": "code",
   "execution_count": 25,
   "id": "acb1f7e4",
   "metadata": {},
   "outputs": [],
   "source": [
    "# Тогда в первой использовалось "
   ]
  },
  {
   "cell_type": "code",
   "execution_count": 26,
   "id": "b7e77017",
   "metadata": {},
   "outputs": [
    {
     "data": {
      "text/plain": [
       "75"
      ]
     },
     "execution_count": 26,
     "metadata": {},
     "output_type": "execute_result"
    }
   ],
   "source": [
    "60 + 15"
   ]
  },
  {
   "cell_type": "markdown",
   "id": "47781c0b",
   "metadata": {},
   "source": [
    "Ответ: В первой кампании использовалось 75 баннеров, во второй - 60"
   ]
  },
  {
   "cell_type": "markdown",
   "id": "624eb7a4",
   "metadata": {},
   "source": [
    "#### 4) Энн использует Instagram, но не Facebook, а Джон использует Youtube и Facebook. Кейт использует Youtube, но не Instagram, а Том использует Facebook, но не Youtube. Если каждый человек использует две из трех социальных сетей, у кого предпочтения совпадают?"
   ]
  },
  {
   "cell_type": "code",
   "execution_count": 27,
   "id": "85d71bf9",
   "metadata": {},
   "outputs": [],
   "source": [
    "# Каждый человек использует 2 из 3 соцсетей, имеющиеся соцсети: YouTube, Facebook, Instagram\n",
    "# Энн использует Instagram и YouTube\n",
    "# Джон использует YouTube и Facebook\n",
    "# Кейт использует YouTube и Facebook\n",
    "# Том использует Facebook и Instagram"
   ]
  },
  {
   "cell_type": "markdown",
   "id": "8c7561ec",
   "metadata": {},
   "source": [
    "Ответ: предпочтения совпадают у Джона и Кейт, они используют YouTube и Facebook"
   ]
  },
  {
   "cell_type": "markdown",
   "id": "6cbb7b71",
   "metadata": {},
   "source": [
    "#### 5) Средний итоговый балл стажера по 4 модулям составляет 78 баллов. Сколько баллов должен получить стажер за 5-й модуль, чтобы средний балл по всему заданию составил 80?"
   ]
  },
  {
   "cell_type": "code",
   "execution_count": 29,
   "id": "b350fdee",
   "metadata": {},
   "outputs": [],
   "source": [
    "# Для вычисления итогового балла стажера по 4 модулям необходимо сложить баллы за 4 модуля и разделить на количество \n",
    "# модулей, то есть на 4, в итоге получится 78 баллов. Обозначим некую сумму за 4 модуля как \"y\"\n",
    "# чтобы получить средний балл по всему заданию, необходимо решить следующее уравнение: \n",
    "# (y + x) / 5 = 80\n",
    "# где x - количество баллов за 5ый модуль\n",
    "# Если рассматривать 4 модуля, то можно найти y:"
   ]
  },
  {
   "cell_type": "code",
   "execution_count": 30,
   "id": "c89c642b",
   "metadata": {},
   "outputs": [
    {
     "data": {
      "text/plain": [
       "312"
      ]
     },
     "execution_count": 30,
     "metadata": {},
     "output_type": "execute_result"
    }
   ],
   "source": [
    "y = 78 * 4\n",
    "y"
   ]
  },
  {
   "cell_type": "code",
   "execution_count": 31,
   "id": "03f2a9be",
   "metadata": {},
   "outputs": [
    {
     "data": {
      "text/plain": [
       "88"
      ]
     },
     "execution_count": 31,
     "metadata": {},
     "output_type": "execute_result"
    }
   ],
   "source": [
    "# 312 баллов в сумме за 4 модуля, тогда можно решить уравнение для 5 модулей:\n",
    "80 * 5 - 312"
   ]
  },
  {
   "cell_type": "markdown",
   "id": "4595dd39",
   "metadata": {},
   "source": [
    "Ответ: в 5ом модуле необходимо набрать 88 баллов"
   ]
  },
  {
   "cell_type": "markdown",
   "id": "fcb352b9",
   "metadata": {},
   "source": [
    "#### 6) Заказанные в приложении товары доставляются на автомобиле. Автомобиль проезжает 260 км со средней скоростью 80 км / ч. На обратном пути машина движется со средней скоростью 100 км / ч. Насколько быстрее был обратный путь? Ответ указать в минутах."
   ]
  },
  {
   "cell_type": "code",
   "execution_count": null,
   "id": "c81cb97e",
   "metadata": {},
   "outputs": [],
   "source": [
    "# Машина ехала по одинаковому пути, равному 260 км. Найдем сколько в часах было потрачено на путь туда и на путь обратно:"
   ]
  },
  {
   "cell_type": "code",
   "execution_count": 33,
   "id": "31648bda",
   "metadata": {},
   "outputs": [
    {
     "data": {
      "text/plain": [
       "3.25"
      ]
     },
     "execution_count": 33,
     "metadata": {},
     "output_type": "execute_result"
    }
   ],
   "source": [
    "260 / 80"
   ]
  },
  {
   "cell_type": "code",
   "execution_count": 34,
   "id": "f6f8847f",
   "metadata": {},
   "outputs": [
    {
     "data": {
      "text/plain": [
       "2.6"
      ]
     },
     "execution_count": 34,
     "metadata": {},
     "output_type": "execute_result"
    }
   ],
   "source": [
    "260 / 100"
   ]
  },
  {
   "cell_type": "code",
   "execution_count": 35,
   "id": "25b3e547",
   "metadata": {},
   "outputs": [
    {
     "data": {
      "text/plain": [
       "195"
      ]
     },
     "execution_count": 35,
     "metadata": {},
     "output_type": "execute_result"
    }
   ],
   "source": [
    "# На путь туда машина потратила 3 часа и ещё 25 сотых часа, 25 сотых часа это 15 минут, \n",
    "# следовательно, на путь туда было потрачено минут:\n",
    "3 * 60 + 15"
   ]
  },
  {
   "cell_type": "code",
   "execution_count": 36,
   "id": "832d761c",
   "metadata": {},
   "outputs": [
    {
     "data": {
      "text/plain": [
       "156"
      ]
     },
     "execution_count": 36,
     "metadata": {},
     "output_type": "execute_result"
    }
   ],
   "source": [
    "# на путь обратно машина потратила 2 часа и ещё 6 десятых часа, 6 десятых часа это 36 минут (60 / 10 * 6)\n",
    "# следовательно на путь обратно было затрачено минут:\n",
    "2 * 60 + 36"
   ]
  },
  {
   "cell_type": "code",
   "execution_count": 37,
   "id": "d3ddd6a3",
   "metadata": {},
   "outputs": [
    {
     "data": {
      "text/plain": [
       "39"
      ]
     },
     "execution_count": 37,
     "metadata": {},
     "output_type": "execute_result"
    }
   ],
   "source": [
    "# Теперь можно рассчитать насколько обратный путь был быстрее в минутах:\n",
    "195 - 156"
   ]
  },
  {
   "cell_type": "markdown",
   "id": "4da65495",
   "metadata": {},
   "source": [
    "Ответ: 39 минут"
   ]
  },
  {
   "cell_type": "markdown",
   "id": "fbdfdd39",
   "metadata": {},
   "source": [
    "### 3. Техническое задание"
   ]
  },
  {
   "cell_type": "markdown",
   "id": "fabaa8c7",
   "metadata": {},
   "source": [
    "#### Имеющиеся поля:\n",
    "- client_id - ID клиента;\n",
    "- sum – сумма денежных средств;\n",
    "- status – статус оплаты;\n",
    "- sale – менеджер, заключивший сделку;\n",
    "- new/current – статус сделки;\n",
    "- document – наличие оригинала подписанного договора с клиентом;\n",
    "- receiving_date – дата получения оригинала договора."
   ]
  },
  {
   "cell_type": "markdown",
   "id": "7fc94853",
   "metadata": {},
   "source": [
    "#### Вопросы:\n",
    "<br>\n",
    "1) Вычислите общую выручку за июль 2021 по тем сделкам, приход денежных средств которых не просрочен.\n",
    "<br>\n",
    "2) Как изменялась выручка компании за рассматриваемый период? Проиллюстрируйте графиком.\n",
    "<br>\n",
    "3) Кто из менеджеров привлек для компании больше всего денежных средств в сентябре 2021?\n",
    "<br>\n",
    "4) Какой тип сделок (новая/текущая) был преобладающим в октябре 2021?\n",
    "<br>\n",
    "5) Сколько оригиналов договора по майским сделкам было получено в июне 2021?"
   ]
  },
  {
   "cell_type": "code",
   "execution_count": 1,
   "id": "57a8b0c8",
   "metadata": {},
   "outputs": [],
   "source": [
    "# import libraries\n",
    "import os\n",
    "import pandas as pd\n",
    "import numpy as np\n",
    "import warnings\n",
    "warnings.filterwarnings('ignore')"
   ]
  },
  {
   "cell_type": "code",
   "execution_count": 2,
   "id": "4666d31b",
   "metadata": {},
   "outputs": [
    {
     "data": {
      "text/html": [
       "<div>\n",
       "<style scoped>\n",
       "    .dataframe tbody tr th:only-of-type {\n",
       "        vertical-align: middle;\n",
       "    }\n",
       "\n",
       "    .dataframe tbody tr th {\n",
       "        vertical-align: top;\n",
       "    }\n",
       "\n",
       "    .dataframe thead th {\n",
       "        text-align: right;\n",
       "    }\n",
       "</style>\n",
       "<table border=\"1\" class=\"dataframe\">\n",
       "  <thead>\n",
       "    <tr style=\"text-align: right;\">\n",
       "      <th></th>\n",
       "      <th>client_id</th>\n",
       "      <th>sum</th>\n",
       "      <th>status</th>\n",
       "      <th>sale</th>\n",
       "      <th>new/current</th>\n",
       "      <th>Unnamed: 5</th>\n",
       "      <th>document</th>\n",
       "      <th>receiving_date</th>\n",
       "    </tr>\n",
       "  </thead>\n",
       "  <tbody>\n",
       "    <tr>\n",
       "      <th>0</th>\n",
       "      <td>NaN</td>\n",
       "      <td>NaN</td>\n",
       "      <td>Май 2021</td>\n",
       "      <td>NaN</td>\n",
       "      <td>NaN</td>\n",
       "      <td>NaN</td>\n",
       "      <td>NaN</td>\n",
       "      <td>NaN</td>\n",
       "    </tr>\n",
       "    <tr>\n",
       "      <th>1</th>\n",
       "      <td>6.0</td>\n",
       "      <td>11693.7</td>\n",
       "      <td>ВНУТРЕННИЙ</td>\n",
       "      <td>-</td>\n",
       "      <td>-</td>\n",
       "      <td>NaN</td>\n",
       "      <td>-</td>\n",
       "      <td>-</td>\n",
       "    </tr>\n",
       "    <tr>\n",
       "      <th>2</th>\n",
       "      <td>14.0</td>\n",
       "      <td>5452.7</td>\n",
       "      <td>ОПЛАЧЕНО</td>\n",
       "      <td>Петрова</td>\n",
       "      <td>новая</td>\n",
       "      <td>NaN</td>\n",
       "      <td>оригинал</td>\n",
       "      <td>2021-07-26 00:00:00</td>\n",
       "    </tr>\n",
       "    <tr>\n",
       "      <th>3</th>\n",
       "      <td>15.0</td>\n",
       "      <td>13991.7</td>\n",
       "      <td>ОПЛАЧЕНО</td>\n",
       "      <td>Иванов</td>\n",
       "      <td>текущая</td>\n",
       "      <td>NaN</td>\n",
       "      <td>оригинал</td>\n",
       "      <td>2021-06-08 00:00:00</td>\n",
       "    </tr>\n",
       "    <tr>\n",
       "      <th>4</th>\n",
       "      <td>16.0</td>\n",
       "      <td>719.7</td>\n",
       "      <td>ОПЛАЧЕНО</td>\n",
       "      <td>Иванов</td>\n",
       "      <td>текущая</td>\n",
       "      <td>NaN</td>\n",
       "      <td>оригинал</td>\n",
       "      <td>2021-06-08 00:00:00</td>\n",
       "    </tr>\n",
       "    <tr>\n",
       "      <th>...</th>\n",
       "      <td>...</td>\n",
       "      <td>...</td>\n",
       "      <td>...</td>\n",
       "      <td>...</td>\n",
       "      <td>...</td>\n",
       "      <td>...</td>\n",
       "      <td>...</td>\n",
       "      <td>...</td>\n",
       "    </tr>\n",
       "    <tr>\n",
       "      <th>725</th>\n",
       "      <td>285.0</td>\n",
       "      <td>4328.7</td>\n",
       "      <td>ОПЛАЧЕНО</td>\n",
       "      <td>Васильев</td>\n",
       "      <td>текущая</td>\n",
       "      <td>NaN</td>\n",
       "      <td>оригинал</td>\n",
       "      <td>2021-11-15 00:00:00</td>\n",
       "    </tr>\n",
       "    <tr>\n",
       "      <th>726</th>\n",
       "      <td>360.0</td>\n",
       "      <td>3096.2</td>\n",
       "      <td>ОПЛАЧЕНО</td>\n",
       "      <td>Васильев</td>\n",
       "      <td>новая</td>\n",
       "      <td>NaN</td>\n",
       "      <td>НЕТ</td>\n",
       "      <td>NaN</td>\n",
       "    </tr>\n",
       "    <tr>\n",
       "      <th>727</th>\n",
       "      <td>360.0</td>\n",
       "      <td>3096.2</td>\n",
       "      <td>ПРОСРОЧЕНО</td>\n",
       "      <td>Васильев</td>\n",
       "      <td>новая</td>\n",
       "      <td>NaN</td>\n",
       "      <td>НЕТ</td>\n",
       "      <td>NaN</td>\n",
       "    </tr>\n",
       "    <tr>\n",
       "      <th>728</th>\n",
       "      <td>373.0</td>\n",
       "      <td>4403.7</td>\n",
       "      <td>ОПЛАЧЕНО</td>\n",
       "      <td>Михайлов</td>\n",
       "      <td>новая</td>\n",
       "      <td>NaN</td>\n",
       "      <td>оригинал</td>\n",
       "      <td>2021-11-08 00:00:00</td>\n",
       "    </tr>\n",
       "    <tr>\n",
       "      <th>729</th>\n",
       "      <td>286.0</td>\n",
       "      <td>3978.7</td>\n",
       "      <td>ОПЛАЧЕНО</td>\n",
       "      <td>Филимонова</td>\n",
       "      <td>текущая</td>\n",
       "      <td>NaN</td>\n",
       "      <td>оригинал</td>\n",
       "      <td>2021-11-15 00:00:00</td>\n",
       "    </tr>\n",
       "  </tbody>\n",
       "</table>\n",
       "<p>730 rows × 8 columns</p>\n",
       "</div>"
      ],
      "text/plain": [
       "     client_id      sum      status        sale new/current  Unnamed: 5  \\\n",
       "0          NaN      NaN    Май 2021         NaN         NaN         NaN   \n",
       "1          6.0  11693.7  ВНУТРЕННИЙ           -           -         NaN   \n",
       "2         14.0   5452.7    ОПЛАЧЕНО     Петрова       новая         NaN   \n",
       "3         15.0  13991.7    ОПЛАЧЕНО      Иванов     текущая         NaN   \n",
       "4         16.0    719.7    ОПЛАЧЕНО      Иванов     текущая         NaN   \n",
       "..         ...      ...         ...         ...         ...         ...   \n",
       "725      285.0   4328.7    ОПЛАЧЕНО    Васильев     текущая         NaN   \n",
       "726      360.0   3096.2    ОПЛАЧЕНО    Васильев       новая         NaN   \n",
       "727      360.0   3096.2  ПРОСРОЧЕНО    Васильев       новая         NaN   \n",
       "728      373.0   4403.7    ОПЛАЧЕНО    Михайлов       новая         NaN   \n",
       "729      286.0   3978.7    ОПЛАЧЕНО  Филимонова     текущая         NaN   \n",
       "\n",
       "     document       receiving_date  \n",
       "0         NaN                  NaN  \n",
       "1           -                    -  \n",
       "2    оригинал  2021-07-26 00:00:00  \n",
       "3    оригинал  2021-06-08 00:00:00  \n",
       "4    оригинал  2021-06-08 00:00:00  \n",
       "..        ...                  ...  \n",
       "725  оригинал  2021-11-15 00:00:00  \n",
       "726       НЕТ                  NaN  \n",
       "727       НЕТ                  NaN  \n",
       "728  оригинал  2021-11-08 00:00:00  \n",
       "729  оригинал  2021-11-15 00:00:00  \n",
       "\n",
       "[730 rows x 8 columns]"
      ]
     },
     "execution_count": 2,
     "metadata": {},
     "output_type": "execute_result"
    }
   ],
   "source": [
    "# Загрузка датасета\n",
    "df = pd.read_excel(r'D:\\data.xlsx')\n",
    "df"
   ]
  },
  {
   "cell_type": "code",
   "execution_count": 3,
   "id": "7f343725",
   "metadata": {},
   "outputs": [],
   "source": [
    "# Для начала нужно предобработать исходные данные\n",
    "# Необходимо перенести даты в новый столбец (Май 2021, Июль 2021 и тд), убрать их из столбца status\n",
    "# Проверить столбец Unnamed: 5, если он содержит только пустые значения, удалить его"
   ]
  },
  {
   "cell_type": "code",
   "execution_count": 4,
   "id": "d3e98959",
   "metadata": {},
   "outputs": [],
   "source": [
    "# Чтобы не потерять исходные данные будем работать с их копией\n",
    "df2 = df.copy(deep=True)"
   ]
  },
  {
   "cell_type": "code",
   "execution_count": 5,
   "id": "1cb0ac68",
   "metadata": {},
   "outputs": [],
   "source": [
    "# Создадим два дополнительных столбца, для указания месяца периода и года\n",
    "df2[\"month\"] = None\n",
    "df2[\"year\"] = None"
   ]
  },
  {
   "cell_type": "code",
   "execution_count": 6,
   "id": "f0492121",
   "metadata": {},
   "outputs": [],
   "source": [
    "months = []\n",
    "years = []\n",
    "for row in df2.itertuples():\n",
    "    if row[3] not in ['ВНУТРЕННИЙ', 'ОПЛАЧЕНО', 'ПРОСРОЧЕНО','В РАБОТЕ', 'НА ПОДПИСАНИИ']:\n",
    "        month, year = row[3].split(\" \")\n",
    "    else:\n",
    "        months.append(month)\n",
    "        years.append(year)"
   ]
  },
  {
   "cell_type": "code",
   "execution_count": 7,
   "id": "8e228439",
   "metadata": {},
   "outputs": [
    {
     "data": {
      "text/plain": [
       "array(['Май 2021', 'ВНУТРЕННИЙ', 'ОПЛАЧЕНО', 'ПРОСРОЧЕНО', 'Июнь 2021',\n",
       "       'Июль 2021', 'Август 2021', 'В РАБОТЕ', 'Сентябрь 2021',\n",
       "       'Октябрь 2021', 'НА ПОДПИСАНИИ'], dtype=object)"
      ]
     },
     "execution_count": 7,
     "metadata": {},
     "output_type": "execute_result"
    }
   ],
   "source": [
    "df2['status'].unique()"
   ]
  },
  {
   "cell_type": "code",
   "execution_count": 8,
   "id": "b8c0bef9",
   "metadata": {},
   "outputs": [
    {
     "data": {
      "text/html": [
       "<div>\n",
       "<style scoped>\n",
       "    .dataframe tbody tr th:only-of-type {\n",
       "        vertical-align: middle;\n",
       "    }\n",
       "\n",
       "    .dataframe tbody tr th {\n",
       "        vertical-align: top;\n",
       "    }\n",
       "\n",
       "    .dataframe thead th {\n",
       "        text-align: right;\n",
       "    }\n",
       "</style>\n",
       "<table border=\"1\" class=\"dataframe\">\n",
       "  <thead>\n",
       "    <tr style=\"text-align: right;\">\n",
       "      <th></th>\n",
       "      <th>client_id</th>\n",
       "      <th>sum</th>\n",
       "      <th>status</th>\n",
       "      <th>sale</th>\n",
       "      <th>new/current</th>\n",
       "      <th>Unnamed: 5</th>\n",
       "      <th>document</th>\n",
       "      <th>receiving_date</th>\n",
       "      <th>month</th>\n",
       "      <th>year</th>\n",
       "    </tr>\n",
       "  </thead>\n",
       "  <tbody>\n",
       "    <tr>\n",
       "      <th>1</th>\n",
       "      <td>6.0</td>\n",
       "      <td>11693.7</td>\n",
       "      <td>ВНУТРЕННИЙ</td>\n",
       "      <td>-</td>\n",
       "      <td>-</td>\n",
       "      <td>NaN</td>\n",
       "      <td>-</td>\n",
       "      <td>-</td>\n",
       "      <td>None</td>\n",
       "      <td>None</td>\n",
       "    </tr>\n",
       "    <tr>\n",
       "      <th>2</th>\n",
       "      <td>14.0</td>\n",
       "      <td>5452.7</td>\n",
       "      <td>ОПЛАЧЕНО</td>\n",
       "      <td>Петрова</td>\n",
       "      <td>новая</td>\n",
       "      <td>NaN</td>\n",
       "      <td>оригинал</td>\n",
       "      <td>2021-07-26 00:00:00</td>\n",
       "      <td>None</td>\n",
       "      <td>None</td>\n",
       "    </tr>\n",
       "    <tr>\n",
       "      <th>3</th>\n",
       "      <td>15.0</td>\n",
       "      <td>13991.7</td>\n",
       "      <td>ОПЛАЧЕНО</td>\n",
       "      <td>Иванов</td>\n",
       "      <td>текущая</td>\n",
       "      <td>NaN</td>\n",
       "      <td>оригинал</td>\n",
       "      <td>2021-06-08 00:00:00</td>\n",
       "      <td>None</td>\n",
       "      <td>None</td>\n",
       "    </tr>\n",
       "    <tr>\n",
       "      <th>4</th>\n",
       "      <td>16.0</td>\n",
       "      <td>719.7</td>\n",
       "      <td>ОПЛАЧЕНО</td>\n",
       "      <td>Иванов</td>\n",
       "      <td>текущая</td>\n",
       "      <td>NaN</td>\n",
       "      <td>оригинал</td>\n",
       "      <td>2021-06-08 00:00:00</td>\n",
       "      <td>None</td>\n",
       "      <td>None</td>\n",
       "    </tr>\n",
       "    <tr>\n",
       "      <th>5</th>\n",
       "      <td>18.0</td>\n",
       "      <td>4253.7</td>\n",
       "      <td>ОПЛАЧЕНО</td>\n",
       "      <td>Иванов</td>\n",
       "      <td>текущая</td>\n",
       "      <td>NaN</td>\n",
       "      <td>оригинал</td>\n",
       "      <td>2021-07-07 00:00:00</td>\n",
       "      <td>None</td>\n",
       "      <td>None</td>\n",
       "    </tr>\n",
       "    <tr>\n",
       "      <th>...</th>\n",
       "      <td>...</td>\n",
       "      <td>...</td>\n",
       "      <td>...</td>\n",
       "      <td>...</td>\n",
       "      <td>...</td>\n",
       "      <td>...</td>\n",
       "      <td>...</td>\n",
       "      <td>...</td>\n",
       "      <td>...</td>\n",
       "      <td>...</td>\n",
       "    </tr>\n",
       "    <tr>\n",
       "      <th>725</th>\n",
       "      <td>285.0</td>\n",
       "      <td>4328.7</td>\n",
       "      <td>ОПЛАЧЕНО</td>\n",
       "      <td>Васильев</td>\n",
       "      <td>текущая</td>\n",
       "      <td>NaN</td>\n",
       "      <td>оригинал</td>\n",
       "      <td>2021-11-15 00:00:00</td>\n",
       "      <td>None</td>\n",
       "      <td>None</td>\n",
       "    </tr>\n",
       "    <tr>\n",
       "      <th>726</th>\n",
       "      <td>360.0</td>\n",
       "      <td>3096.2</td>\n",
       "      <td>ОПЛАЧЕНО</td>\n",
       "      <td>Васильев</td>\n",
       "      <td>новая</td>\n",
       "      <td>NaN</td>\n",
       "      <td>НЕТ</td>\n",
       "      <td>NaN</td>\n",
       "      <td>None</td>\n",
       "      <td>None</td>\n",
       "    </tr>\n",
       "    <tr>\n",
       "      <th>727</th>\n",
       "      <td>360.0</td>\n",
       "      <td>3096.2</td>\n",
       "      <td>ПРОСРОЧЕНО</td>\n",
       "      <td>Васильев</td>\n",
       "      <td>новая</td>\n",
       "      <td>NaN</td>\n",
       "      <td>НЕТ</td>\n",
       "      <td>NaN</td>\n",
       "      <td>None</td>\n",
       "      <td>None</td>\n",
       "    </tr>\n",
       "    <tr>\n",
       "      <th>728</th>\n",
       "      <td>373.0</td>\n",
       "      <td>4403.7</td>\n",
       "      <td>ОПЛАЧЕНО</td>\n",
       "      <td>Михайлов</td>\n",
       "      <td>новая</td>\n",
       "      <td>NaN</td>\n",
       "      <td>оригинал</td>\n",
       "      <td>2021-11-08 00:00:00</td>\n",
       "      <td>None</td>\n",
       "      <td>None</td>\n",
       "    </tr>\n",
       "    <tr>\n",
       "      <th>729</th>\n",
       "      <td>286.0</td>\n",
       "      <td>3978.7</td>\n",
       "      <td>ОПЛАЧЕНО</td>\n",
       "      <td>Филимонова</td>\n",
       "      <td>текущая</td>\n",
       "      <td>NaN</td>\n",
       "      <td>оригинал</td>\n",
       "      <td>2021-11-15 00:00:00</td>\n",
       "      <td>None</td>\n",
       "      <td>None</td>\n",
       "    </tr>\n",
       "  </tbody>\n",
       "</table>\n",
       "<p>724 rows × 10 columns</p>\n",
       "</div>"
      ],
      "text/plain": [
       "     client_id      sum      status        sale new/current  Unnamed: 5  \\\n",
       "1          6.0  11693.7  ВНУТРЕННИЙ           -           -         NaN   \n",
       "2         14.0   5452.7    ОПЛАЧЕНО     Петрова       новая         NaN   \n",
       "3         15.0  13991.7    ОПЛАЧЕНО      Иванов     текущая         NaN   \n",
       "4         16.0    719.7    ОПЛАЧЕНО      Иванов     текущая         NaN   \n",
       "5         18.0   4253.7    ОПЛАЧЕНО      Иванов     текущая         NaN   \n",
       "..         ...      ...         ...         ...         ...         ...   \n",
       "725      285.0   4328.7    ОПЛАЧЕНО    Васильев     текущая         NaN   \n",
       "726      360.0   3096.2    ОПЛАЧЕНО    Васильев       новая         NaN   \n",
       "727      360.0   3096.2  ПРОСРОЧЕНО    Васильев       новая         NaN   \n",
       "728      373.0   4403.7    ОПЛАЧЕНО    Михайлов       новая         NaN   \n",
       "729      286.0   3978.7    ОПЛАЧЕНО  Филимонова     текущая         NaN   \n",
       "\n",
       "     document       receiving_date month  year  \n",
       "1           -                    -  None  None  \n",
       "2    оригинал  2021-07-26 00:00:00  None  None  \n",
       "3    оригинал  2021-06-08 00:00:00  None  None  \n",
       "4    оригинал  2021-06-08 00:00:00  None  None  \n",
       "5    оригинал  2021-07-07 00:00:00  None  None  \n",
       "..        ...                  ...   ...   ...  \n",
       "725  оригинал  2021-11-15 00:00:00  None  None  \n",
       "726       НЕТ                  NaN  None  None  \n",
       "727       НЕТ                  NaN  None  None  \n",
       "728  оригинал  2021-11-08 00:00:00  None  None  \n",
       "729  оригинал  2021-11-15 00:00:00  None  None  \n",
       "\n",
       "[724 rows x 10 columns]"
      ]
     },
     "execution_count": 8,
     "metadata": {},
     "output_type": "execute_result"
    }
   ],
   "source": [
    "# Убираем строки, в которых в поле статус написана дата\n",
    "df2 = df2.query(\"status in ['ВНУТРЕННИЙ', 'ОПЛАЧЕНО', 'ПРОСРОЧЕНО','В РАБОТЕ', 'НА ПОДПИСАНИИ']\")\n",
    "df2"
   ]
  },
  {
   "cell_type": "code",
   "execution_count": 9,
   "id": "2c1a0ed7",
   "metadata": {},
   "outputs": [],
   "source": [
    "# Теперь внесем полученные данные о периодах (месяцах)\n",
    "df2[\"month\"] = months\n",
    "df2[\"year\"] = years"
   ]
  },
  {
   "cell_type": "code",
   "execution_count": 10,
   "id": "96fe6d0e",
   "metadata": {},
   "outputs": [
    {
     "data": {
      "text/html": [
       "<div>\n",
       "<style scoped>\n",
       "    .dataframe tbody tr th:only-of-type {\n",
       "        vertical-align: middle;\n",
       "    }\n",
       "\n",
       "    .dataframe tbody tr th {\n",
       "        vertical-align: top;\n",
       "    }\n",
       "\n",
       "    .dataframe thead th {\n",
       "        text-align: right;\n",
       "    }\n",
       "</style>\n",
       "<table border=\"1\" class=\"dataframe\">\n",
       "  <thead>\n",
       "    <tr style=\"text-align: right;\">\n",
       "      <th></th>\n",
       "      <th>client_id</th>\n",
       "      <th>sum</th>\n",
       "      <th>status</th>\n",
       "      <th>sale</th>\n",
       "      <th>new/current</th>\n",
       "      <th>Unnamed: 5</th>\n",
       "      <th>document</th>\n",
       "      <th>receiving_date</th>\n",
       "      <th>month</th>\n",
       "      <th>year</th>\n",
       "    </tr>\n",
       "  </thead>\n",
       "  <tbody>\n",
       "    <tr>\n",
       "      <th>1</th>\n",
       "      <td>6.0</td>\n",
       "      <td>11693.7</td>\n",
       "      <td>ВНУТРЕННИЙ</td>\n",
       "      <td>-</td>\n",
       "      <td>-</td>\n",
       "      <td>NaN</td>\n",
       "      <td>-</td>\n",
       "      <td>-</td>\n",
       "      <td>5</td>\n",
       "      <td>2021</td>\n",
       "    </tr>\n",
       "    <tr>\n",
       "      <th>2</th>\n",
       "      <td>14.0</td>\n",
       "      <td>5452.7</td>\n",
       "      <td>ОПЛАЧЕНО</td>\n",
       "      <td>Петрова</td>\n",
       "      <td>новая</td>\n",
       "      <td>NaN</td>\n",
       "      <td>оригинал</td>\n",
       "      <td>2021-07-26 00:00:00</td>\n",
       "      <td>5</td>\n",
       "      <td>2021</td>\n",
       "    </tr>\n",
       "    <tr>\n",
       "      <th>3</th>\n",
       "      <td>15.0</td>\n",
       "      <td>13991.7</td>\n",
       "      <td>ОПЛАЧЕНО</td>\n",
       "      <td>Иванов</td>\n",
       "      <td>текущая</td>\n",
       "      <td>NaN</td>\n",
       "      <td>оригинал</td>\n",
       "      <td>2021-06-08 00:00:00</td>\n",
       "      <td>5</td>\n",
       "      <td>2021</td>\n",
       "    </tr>\n",
       "    <tr>\n",
       "      <th>4</th>\n",
       "      <td>16.0</td>\n",
       "      <td>719.7</td>\n",
       "      <td>ОПЛАЧЕНО</td>\n",
       "      <td>Иванов</td>\n",
       "      <td>текущая</td>\n",
       "      <td>NaN</td>\n",
       "      <td>оригинал</td>\n",
       "      <td>2021-06-08 00:00:00</td>\n",
       "      <td>5</td>\n",
       "      <td>2021</td>\n",
       "    </tr>\n",
       "    <tr>\n",
       "      <th>5</th>\n",
       "      <td>18.0</td>\n",
       "      <td>4253.7</td>\n",
       "      <td>ОПЛАЧЕНО</td>\n",
       "      <td>Иванов</td>\n",
       "      <td>текущая</td>\n",
       "      <td>NaN</td>\n",
       "      <td>оригинал</td>\n",
       "      <td>2021-07-07 00:00:00</td>\n",
       "      <td>5</td>\n",
       "      <td>2021</td>\n",
       "    </tr>\n",
       "    <tr>\n",
       "      <th>...</th>\n",
       "      <td>...</td>\n",
       "      <td>...</td>\n",
       "      <td>...</td>\n",
       "      <td>...</td>\n",
       "      <td>...</td>\n",
       "      <td>...</td>\n",
       "      <td>...</td>\n",
       "      <td>...</td>\n",
       "      <td>...</td>\n",
       "      <td>...</td>\n",
       "    </tr>\n",
       "    <tr>\n",
       "      <th>725</th>\n",
       "      <td>285.0</td>\n",
       "      <td>4328.7</td>\n",
       "      <td>ОПЛАЧЕНО</td>\n",
       "      <td>Васильев</td>\n",
       "      <td>текущая</td>\n",
       "      <td>NaN</td>\n",
       "      <td>оригинал</td>\n",
       "      <td>2021-11-15 00:00:00</td>\n",
       "      <td>10</td>\n",
       "      <td>2021</td>\n",
       "    </tr>\n",
       "    <tr>\n",
       "      <th>726</th>\n",
       "      <td>360.0</td>\n",
       "      <td>3096.2</td>\n",
       "      <td>ОПЛАЧЕНО</td>\n",
       "      <td>Васильев</td>\n",
       "      <td>новая</td>\n",
       "      <td>NaN</td>\n",
       "      <td>НЕТ</td>\n",
       "      <td>NaN</td>\n",
       "      <td>10</td>\n",
       "      <td>2021</td>\n",
       "    </tr>\n",
       "    <tr>\n",
       "      <th>727</th>\n",
       "      <td>360.0</td>\n",
       "      <td>3096.2</td>\n",
       "      <td>ПРОСРОЧЕНО</td>\n",
       "      <td>Васильев</td>\n",
       "      <td>новая</td>\n",
       "      <td>NaN</td>\n",
       "      <td>НЕТ</td>\n",
       "      <td>NaN</td>\n",
       "      <td>10</td>\n",
       "      <td>2021</td>\n",
       "    </tr>\n",
       "    <tr>\n",
       "      <th>728</th>\n",
       "      <td>373.0</td>\n",
       "      <td>4403.7</td>\n",
       "      <td>ОПЛАЧЕНО</td>\n",
       "      <td>Михайлов</td>\n",
       "      <td>новая</td>\n",
       "      <td>NaN</td>\n",
       "      <td>оригинал</td>\n",
       "      <td>2021-11-08 00:00:00</td>\n",
       "      <td>10</td>\n",
       "      <td>2021</td>\n",
       "    </tr>\n",
       "    <tr>\n",
       "      <th>729</th>\n",
       "      <td>286.0</td>\n",
       "      <td>3978.7</td>\n",
       "      <td>ОПЛАЧЕНО</td>\n",
       "      <td>Филимонова</td>\n",
       "      <td>текущая</td>\n",
       "      <td>NaN</td>\n",
       "      <td>оригинал</td>\n",
       "      <td>2021-11-15 00:00:00</td>\n",
       "      <td>10</td>\n",
       "      <td>2021</td>\n",
       "    </tr>\n",
       "  </tbody>\n",
       "</table>\n",
       "<p>724 rows × 10 columns</p>\n",
       "</div>"
      ],
      "text/plain": [
       "     client_id      sum      status        sale new/current  Unnamed: 5  \\\n",
       "1          6.0  11693.7  ВНУТРЕННИЙ           -           -         NaN   \n",
       "2         14.0   5452.7    ОПЛАЧЕНО     Петрова       новая         NaN   \n",
       "3         15.0  13991.7    ОПЛАЧЕНО      Иванов     текущая         NaN   \n",
       "4         16.0    719.7    ОПЛАЧЕНО      Иванов     текущая         NaN   \n",
       "5         18.0   4253.7    ОПЛАЧЕНО      Иванов     текущая         NaN   \n",
       "..         ...      ...         ...         ...         ...         ...   \n",
       "725      285.0   4328.7    ОПЛАЧЕНО    Васильев     текущая         NaN   \n",
       "726      360.0   3096.2    ОПЛАЧЕНО    Васильев       новая         NaN   \n",
       "727      360.0   3096.2  ПРОСРОЧЕНО    Васильев       новая         NaN   \n",
       "728      373.0   4403.7    ОПЛАЧЕНО    Михайлов       новая         NaN   \n",
       "729      286.0   3978.7    ОПЛАЧЕНО  Филимонова     текущая         NaN   \n",
       "\n",
       "     document       receiving_date  month  year  \n",
       "1           -                    -      5  2021  \n",
       "2    оригинал  2021-07-26 00:00:00      5  2021  \n",
       "3    оригинал  2021-06-08 00:00:00      5  2021  \n",
       "4    оригинал  2021-06-08 00:00:00      5  2021  \n",
       "5    оригинал  2021-07-07 00:00:00      5  2021  \n",
       "..        ...                  ...    ...   ...  \n",
       "725  оригинал  2021-11-15 00:00:00     10  2021  \n",
       "726       НЕТ                  NaN     10  2021  \n",
       "727       НЕТ                  NaN     10  2021  \n",
       "728  оригинал  2021-11-08 00:00:00     10  2021  \n",
       "729  оригинал  2021-11-15 00:00:00     10  2021  \n",
       "\n",
       "[724 rows x 10 columns]"
      ]
     },
     "execution_count": 10,
     "metadata": {},
     "output_type": "execute_result"
    }
   ],
   "source": [
    "# Для удобства вычисления заменим названия месяцев на соответствующие им номера\n",
    "df2['month'].replace(\"Май\", 5, inplace = True)\n",
    "df2['month'].replace(\"Июнь\", 6, inplace = True)\n",
    "df2['month'].replace(\"Июль\", 7, inplace = True)\n",
    "df2['month'].replace(\"Август\", 8, inplace = True)\n",
    "df2['month'].replace(\"Сентябрь\", 9, inplace = True)\n",
    "df2['month'].replace(\"Октябрь\", 10, inplace = True)\n",
    "df2"
   ]
  },
  {
   "cell_type": "code",
   "execution_count": 11,
   "id": "673922d8",
   "metadata": {},
   "outputs": [
    {
     "data": {
      "text/plain": [
       "array([nan])"
      ]
     },
     "execution_count": 11,
     "metadata": {},
     "output_type": "execute_result"
    }
   ],
   "source": [
    "# Теперь проверим столбец Unnamed: 5\n",
    "df['Unnamed: 5'].unique()"
   ]
  },
  {
   "cell_type": "code",
   "execution_count": 12,
   "id": "e9b42961",
   "metadata": {},
   "outputs": [
    {
     "data": {
      "text/html": [
       "<div>\n",
       "<style scoped>\n",
       "    .dataframe tbody tr th:only-of-type {\n",
       "        vertical-align: middle;\n",
       "    }\n",
       "\n",
       "    .dataframe tbody tr th {\n",
       "        vertical-align: top;\n",
       "    }\n",
       "\n",
       "    .dataframe thead th {\n",
       "        text-align: right;\n",
       "    }\n",
       "</style>\n",
       "<table border=\"1\" class=\"dataframe\">\n",
       "  <thead>\n",
       "    <tr style=\"text-align: right;\">\n",
       "      <th></th>\n",
       "      <th>client_id</th>\n",
       "      <th>sum</th>\n",
       "      <th>status</th>\n",
       "      <th>sale</th>\n",
       "      <th>new/current</th>\n",
       "      <th>document</th>\n",
       "      <th>receiving_date</th>\n",
       "      <th>month</th>\n",
       "      <th>year</th>\n",
       "    </tr>\n",
       "  </thead>\n",
       "  <tbody>\n",
       "    <tr>\n",
       "      <th>1</th>\n",
       "      <td>6.0</td>\n",
       "      <td>11693.7</td>\n",
       "      <td>ВНУТРЕННИЙ</td>\n",
       "      <td>-</td>\n",
       "      <td>-</td>\n",
       "      <td>-</td>\n",
       "      <td>-</td>\n",
       "      <td>5</td>\n",
       "      <td>2021</td>\n",
       "    </tr>\n",
       "    <tr>\n",
       "      <th>2</th>\n",
       "      <td>14.0</td>\n",
       "      <td>5452.7</td>\n",
       "      <td>ОПЛАЧЕНО</td>\n",
       "      <td>Петрова</td>\n",
       "      <td>новая</td>\n",
       "      <td>оригинал</td>\n",
       "      <td>2021-07-26 00:00:00</td>\n",
       "      <td>5</td>\n",
       "      <td>2021</td>\n",
       "    </tr>\n",
       "    <tr>\n",
       "      <th>3</th>\n",
       "      <td>15.0</td>\n",
       "      <td>13991.7</td>\n",
       "      <td>ОПЛАЧЕНО</td>\n",
       "      <td>Иванов</td>\n",
       "      <td>текущая</td>\n",
       "      <td>оригинал</td>\n",
       "      <td>2021-06-08 00:00:00</td>\n",
       "      <td>5</td>\n",
       "      <td>2021</td>\n",
       "    </tr>\n",
       "    <tr>\n",
       "      <th>4</th>\n",
       "      <td>16.0</td>\n",
       "      <td>719.7</td>\n",
       "      <td>ОПЛАЧЕНО</td>\n",
       "      <td>Иванов</td>\n",
       "      <td>текущая</td>\n",
       "      <td>оригинал</td>\n",
       "      <td>2021-06-08 00:00:00</td>\n",
       "      <td>5</td>\n",
       "      <td>2021</td>\n",
       "    </tr>\n",
       "    <tr>\n",
       "      <th>5</th>\n",
       "      <td>18.0</td>\n",
       "      <td>4253.7</td>\n",
       "      <td>ОПЛАЧЕНО</td>\n",
       "      <td>Иванов</td>\n",
       "      <td>текущая</td>\n",
       "      <td>оригинал</td>\n",
       "      <td>2021-07-07 00:00:00</td>\n",
       "      <td>5</td>\n",
       "      <td>2021</td>\n",
       "    </tr>\n",
       "    <tr>\n",
       "      <th>...</th>\n",
       "      <td>...</td>\n",
       "      <td>...</td>\n",
       "      <td>...</td>\n",
       "      <td>...</td>\n",
       "      <td>...</td>\n",
       "      <td>...</td>\n",
       "      <td>...</td>\n",
       "      <td>...</td>\n",
       "      <td>...</td>\n",
       "    </tr>\n",
       "    <tr>\n",
       "      <th>725</th>\n",
       "      <td>285.0</td>\n",
       "      <td>4328.7</td>\n",
       "      <td>ОПЛАЧЕНО</td>\n",
       "      <td>Васильев</td>\n",
       "      <td>текущая</td>\n",
       "      <td>оригинал</td>\n",
       "      <td>2021-11-15 00:00:00</td>\n",
       "      <td>10</td>\n",
       "      <td>2021</td>\n",
       "    </tr>\n",
       "    <tr>\n",
       "      <th>726</th>\n",
       "      <td>360.0</td>\n",
       "      <td>3096.2</td>\n",
       "      <td>ОПЛАЧЕНО</td>\n",
       "      <td>Васильев</td>\n",
       "      <td>новая</td>\n",
       "      <td>НЕТ</td>\n",
       "      <td>NaN</td>\n",
       "      <td>10</td>\n",
       "      <td>2021</td>\n",
       "    </tr>\n",
       "    <tr>\n",
       "      <th>727</th>\n",
       "      <td>360.0</td>\n",
       "      <td>3096.2</td>\n",
       "      <td>ПРОСРОЧЕНО</td>\n",
       "      <td>Васильев</td>\n",
       "      <td>новая</td>\n",
       "      <td>НЕТ</td>\n",
       "      <td>NaN</td>\n",
       "      <td>10</td>\n",
       "      <td>2021</td>\n",
       "    </tr>\n",
       "    <tr>\n",
       "      <th>728</th>\n",
       "      <td>373.0</td>\n",
       "      <td>4403.7</td>\n",
       "      <td>ОПЛАЧЕНО</td>\n",
       "      <td>Михайлов</td>\n",
       "      <td>новая</td>\n",
       "      <td>оригинал</td>\n",
       "      <td>2021-11-08 00:00:00</td>\n",
       "      <td>10</td>\n",
       "      <td>2021</td>\n",
       "    </tr>\n",
       "    <tr>\n",
       "      <th>729</th>\n",
       "      <td>286.0</td>\n",
       "      <td>3978.7</td>\n",
       "      <td>ОПЛАЧЕНО</td>\n",
       "      <td>Филимонова</td>\n",
       "      <td>текущая</td>\n",
       "      <td>оригинал</td>\n",
       "      <td>2021-11-15 00:00:00</td>\n",
       "      <td>10</td>\n",
       "      <td>2021</td>\n",
       "    </tr>\n",
       "  </tbody>\n",
       "</table>\n",
       "<p>724 rows × 9 columns</p>\n",
       "</div>"
      ],
      "text/plain": [
       "     client_id      sum      status        sale new/current  document  \\\n",
       "1          6.0  11693.7  ВНУТРЕННИЙ           -           -         -   \n",
       "2         14.0   5452.7    ОПЛАЧЕНО     Петрова       новая  оригинал   \n",
       "3         15.0  13991.7    ОПЛАЧЕНО      Иванов     текущая  оригинал   \n",
       "4         16.0    719.7    ОПЛАЧЕНО      Иванов     текущая  оригинал   \n",
       "5         18.0   4253.7    ОПЛАЧЕНО      Иванов     текущая  оригинал   \n",
       "..         ...      ...         ...         ...         ...       ...   \n",
       "725      285.0   4328.7    ОПЛАЧЕНО    Васильев     текущая  оригинал   \n",
       "726      360.0   3096.2    ОПЛАЧЕНО    Васильев       новая       НЕТ   \n",
       "727      360.0   3096.2  ПРОСРОЧЕНО    Васильев       новая       НЕТ   \n",
       "728      373.0   4403.7    ОПЛАЧЕНО    Михайлов       новая  оригинал   \n",
       "729      286.0   3978.7    ОПЛАЧЕНО  Филимонова     текущая  оригинал   \n",
       "\n",
       "          receiving_date  month  year  \n",
       "1                      -      5  2021  \n",
       "2    2021-07-26 00:00:00      5  2021  \n",
       "3    2021-06-08 00:00:00      5  2021  \n",
       "4    2021-06-08 00:00:00      5  2021  \n",
       "5    2021-07-07 00:00:00      5  2021  \n",
       "..                   ...    ...   ...  \n",
       "725  2021-11-15 00:00:00     10  2021  \n",
       "726                  NaN     10  2021  \n",
       "727                  NaN     10  2021  \n",
       "728  2021-11-08 00:00:00     10  2021  \n",
       "729  2021-11-15 00:00:00     10  2021  \n",
       "\n",
       "[724 rows x 9 columns]"
      ]
     },
     "execution_count": 12,
     "metadata": {},
     "output_type": "execute_result"
    }
   ],
   "source": [
    "# Данный столбец содержит только пустые значения, удалим его\n",
    "df2.drop(['Unnamed: 5'], axis=1, inplace=True)\n",
    "df2"
   ]
  },
  {
   "cell_type": "code",
   "execution_count": 13,
   "id": "1b34e5c0",
   "metadata": {},
   "outputs": [],
   "source": [
    "# После чего можно приступать к работе с данными"
   ]
  },
  {
   "cell_type": "markdown",
   "id": "987f13ba",
   "metadata": {},
   "source": [
    "#### 1) Вычислите общую выручку за июль 2021 по тем сделкам, приход денежных средств которых не просрочен. "
   ]
  },
  {
   "cell_type": "code",
   "execution_count": 15,
   "id": "2af6b722",
   "metadata": {},
   "outputs": [
    {
     "data": {
      "text/plain": [
       "859896.47"
      ]
     },
     "execution_count": 15,
     "metadata": {},
     "output_type": "execute_result"
    }
   ],
   "source": [
    "# вычисляем сумму по условию нужного месяца и статуса прихода денежных средств\n",
    "summa_july = df2.query(\"status != 'ПРОСРОЧЕНО' & month == 7\")['sum'].sum().round(2)\n",
    "summa_july"
   ]
  },
  {
   "cell_type": "markdown",
   "id": "35d83708",
   "metadata": {},
   "source": [
    "Ответ: Выручка за июль 2021 года по сделкам с непросроченным приходом денежных средств составила 859896.47 у.е."
   ]
  },
  {
   "cell_type": "markdown",
   "id": "80111c52",
   "metadata": {},
   "source": [
    "#### 2) Как изменялась выручка компании за рассматриваемый период? Проиллюстрируйте графиком. "
   ]
  },
  {
   "cell_type": "code",
   "execution_count": 16,
   "id": "d50ca069",
   "metadata": {},
   "outputs": [
    {
     "data": {
      "text/html": [
       "<div>\n",
       "<style scoped>\n",
       "    .dataframe tbody tr th:only-of-type {\n",
       "        vertical-align: middle;\n",
       "    }\n",
       "\n",
       "    .dataframe tbody tr th {\n",
       "        vertical-align: top;\n",
       "    }\n",
       "\n",
       "    .dataframe thead th {\n",
       "        text-align: right;\n",
       "    }\n",
       "</style>\n",
       "<table border=\"1\" class=\"dataframe\">\n",
       "  <thead>\n",
       "    <tr style=\"text-align: right;\">\n",
       "      <th></th>\n",
       "      <th>client_id</th>\n",
       "      <th>sum</th>\n",
       "    </tr>\n",
       "    <tr>\n",
       "      <th>month</th>\n",
       "      <th></th>\n",
       "      <th></th>\n",
       "    </tr>\n",
       "  </thead>\n",
       "  <tbody>\n",
       "    <tr>\n",
       "      <th>5</th>\n",
       "      <td>17255.0</td>\n",
       "      <td>809572.19</td>\n",
       "    </tr>\n",
       "    <tr>\n",
       "      <th>6</th>\n",
       "      <td>18427.0</td>\n",
       "      <td>810266.11</td>\n",
       "    </tr>\n",
       "    <tr>\n",
       "      <th>7</th>\n",
       "      <td>19712.0</td>\n",
       "      <td>861874.17</td>\n",
       "    </tr>\n",
       "    <tr>\n",
       "      <th>8</th>\n",
       "      <td>22517.0</td>\n",
       "      <td>850435.79</td>\n",
       "    </tr>\n",
       "    <tr>\n",
       "      <th>9</th>\n",
       "      <td>22297.0</td>\n",
       "      <td>820383.78</td>\n",
       "    </tr>\n",
       "    <tr>\n",
       "      <th>10</th>\n",
       "      <td>32345.0</td>\n",
       "      <td>1033148.39</td>\n",
       "    </tr>\n",
       "  </tbody>\n",
       "</table>\n",
       "</div>"
      ],
      "text/plain": [
       "       client_id         sum\n",
       "month                       \n",
       "5        17255.0   809572.19\n",
       "6        18427.0   810266.11\n",
       "7        19712.0   861874.17\n",
       "8        22517.0   850435.79\n",
       "9        22297.0   820383.78\n",
       "10       32345.0  1033148.39"
      ]
     },
     "execution_count": 16,
     "metadata": {},
     "output_type": "execute_result"
    }
   ],
   "source": [
    "results = df2.groupby('month').sum()\n",
    "results\n",
    "# В данном случае нас интересует столбец sum, который показывает суммарную выручку за каждый месяц"
   ]
  },
  {
   "cell_type": "code",
   "execution_count": 18,
   "id": "d8be29fd",
   "metadata": {},
   "outputs": [
    {
     "data": {
      "text/plain": [
       "1033148.39"
      ]
     },
     "execution_count": 18,
     "metadata": {},
     "output_type": "execute_result"
    }
   ],
   "source": [
    "# Максимальное значение выручки, зафиксировано в октябре месяце\n",
    "round(results['sum'].max(),2)"
   ]
  },
  {
   "cell_type": "code",
   "execution_count": 19,
   "id": "187ae693",
   "metadata": {},
   "outputs": [
    {
     "data": {
      "text/plain": [
       "809572.19"
      ]
     },
     "execution_count": 19,
     "metadata": {},
     "output_type": "execute_result"
    }
   ],
   "source": [
    "# Минимальное значение выручки, зафиксировано в мае месяце\n",
    "round(results['sum'].min(),2)"
   ]
  },
  {
   "cell_type": "code",
   "execution_count": 20,
   "id": "fd0b8e65",
   "metadata": {},
   "outputs": [],
   "source": [
    "import matplotlib.pyplot as plt\n",
    "%matplotlib inline"
   ]
  },
  {
   "cell_type": "code",
   "execution_count": 21,
   "id": "4eb26a9b",
   "metadata": {},
   "outputs": [
    {
     "data": {
      "image/png": "[encoded data removed]",
      "text/plain": [
       "<Figure size 432x288 with 1 Axes>"
      ]
     },
     "metadata": {
      "needs_background": "light"
     },
     "output_type": "display_data"
    }
   ],
   "source": [
    "months = range(5,11)\n",
    "plt.bar(months, results['sum'])\n",
    "plt.xticks(months)\n",
    "plt.ylabel('sum of sales')\n",
    "plt.xlabel('Month number')\n",
    "plt.show()"
   ]
  },
  {
   "cell_type": "markdown",
   "id": "e079a56e",
   "metadata": {},
   "source": [
    "Можно сказать, что выручка компании постепенно растет, несмотря на ее снижение в сентябре месяце"
   ]
  },
  {
   "cell_type": "markdown",
   "id": "053544a0",
   "metadata": {},
   "source": [
    "#### 3) Кто из менеджеров привлек для компании больше всего денежных средств в сентябре 2021? "
   ]
  },
  {
   "cell_type": "code",
   "execution_count": 24,
   "id": "7e1b48d1",
   "metadata": {},
   "outputs": [],
   "source": [
    "results2 = df2[df2['month'] == 9].groupby('sale').sum()"
   ]
  },
  {
   "cell_type": "code",
   "execution_count": 25,
   "id": "85829121",
   "metadata": {},
   "outputs": [
    {
     "data": {
      "text/plain": [
       "sale\n",
       "Андреев       133652.50\n",
       "Васильев       49895.45\n",
       "Иванов         94770.60\n",
       "Кузнецова      72228.40\n",
       "Михайлов        4268.70\n",
       "Петрова       149344.46\n",
       "Смирнов       221525.70\n",
       "Соколов        35183.50\n",
       "Филимонова     59514.47\n",
       "Name: sum, dtype: float64"
      ]
     },
     "execution_count": 25,
     "metadata": {},
     "output_type": "execute_result"
    }
   ],
   "source": [
    "results2['sum']"
   ]
  },
  {
   "cell_type": "code",
   "execution_count": 26,
   "id": "c2db174e",
   "metadata": {},
   "outputs": [
    {
     "data": {
      "image/png": "[encoded data removed]",
      "text/plain": [
       "<Figure size 432x288 with 1 Axes>"
      ]
     },
     "metadata": {
      "needs_background": "light"
     },
     "output_type": "display_data"
    }
   ],
   "source": [
    "import seaborn as sns\n",
    "sns.barplot(x=results2['sum'], y=results2.index)\n",
    "\n",
    "plt.title(\"Количество денежных средств, привлеченных менеджерами в сентябре 2021\")\n",
    "plt.ylabel(None);\n",
    "plt.xlabel('Percentage');"
   ]
  },
  {
   "cell_type": "code",
   "execution_count": 27,
   "id": "e3788f8a",
   "metadata": {},
   "outputs": [
    {
     "data": {
      "text/plain": [
       "221525.7"
      ]
     },
     "execution_count": 27,
     "metadata": {},
     "output_type": "execute_result"
    }
   ],
   "source": [
    "round(results2['sum'].max(),2)"
   ]
  },
  {
   "cell_type": "markdown",
   "id": "f180b00f",
   "metadata": {},
   "source": [
    "Как видно из графика и из подсчетов, больше всего средств компании в сентябре 2021 принес менеджер Смирнов"
   ]
  },
  {
   "cell_type": "markdown",
   "id": "1ea116f2",
   "metadata": {},
   "source": [
    "#### 4) Какой тип сделок (новая/текущая) был преобладающим в октябре 2021? "
   ]
  },
  {
   "cell_type": "code",
   "execution_count": 28,
   "id": "0cb512ce",
   "metadata": {},
   "outputs": [
    {
     "data": {
      "text/plain": [
       "текущая    99\n",
       "новая      36\n",
       "Name: new/current, dtype: int64"
      ]
     },
     "execution_count": 28,
     "metadata": {},
     "output_type": "execute_result"
    }
   ],
   "source": [
    "df2['new/current'][df2['month'] == 10].value_counts()"
   ]
  },
  {
   "cell_type": "markdown",
   "id": "e3f67f8c",
   "metadata": {},
   "source": [
    "Преобладающий тип сделок в октябре 2021 - текущая"
   ]
  },
  {
   "cell_type": "markdown",
   "id": "63186bad",
   "metadata": {},
   "source": [
    "#### 5) Сколько оригиналов договора по майским сделкам было получено в июне 2021?"
   ]
  },
  {
   "cell_type": "code",
   "execution_count": 31,
   "id": "55dd16bb",
   "metadata": {},
   "outputs": [],
   "source": [
    "df2['receiving_date'] = pd.to_datetime(df2['receiving_date'], errors='coerce')"
   ]
  },
  {
   "cell_type": "code",
   "execution_count": 32,
   "id": "58dc5951",
   "metadata": {},
   "outputs": [
    {
     "data": {
      "text/plain": [
       "оригинал    76\n",
       "Name: document, dtype: int64"
      ]
     },
     "execution_count": 32,
     "metadata": {},
     "output_type": "execute_result"
    }
   ],
   "source": [
    "df2['document'][(df2['receiving_date'].dt.month == 6) & (df2['month'] == 5)].value_counts()"
   ]
  },
  {
   "cell_type": "markdown",
   "id": "398db3e3",
   "metadata": {},
   "source": [
    "В июне 2021 года было получено 76 оригиналов по майским сделкам"
   ]
  },
  {
   "cell_type": "markdown",
   "id": "c3bba1b3",
   "metadata": {},
   "source": [
    "### Задание:\n",
    "#### За каждую заключенную сделку менеджер получает бонус, который рассчитывается следующим образом.\n",
    "1) За новые сделки менеджер получает 7 % от суммы, при условии, что статус\n",
    "оплаты «ОПЛАЧЕНО», а также имеется оригинал подписанного договора с\n",
    "клиентом (в рассматриваемом месяце).\n",
    "<br>\n",
    "2) За текущие сделки менеджер получает 5 % от суммы, если она больше 10 тыс., и\n",
    "3 % от суммы, если меньше. При этом статус оплаты может быть любым, кроме\n",
    "«ПРОСРОЧЕНО», а также необходимо наличие оригинала подписанного\n",
    "договора с клиентом (в рассматриваемом месяце).\n",
    "<br>\n",
    "<br>\n",
    "Бонусы по сделкам, оригиналы для которых приходят позже рассматриваемого\n",
    "месяца, считаются остатком на следующий период, который выплачивается по\n",
    "мере прихода оригиналов.\n",
    "<br>\n",
    "#### Вычислите остаток каждого из менеджеров на 01.07.2021."
   ]
  },
  {
   "cell_type": "code",
   "execution_count": 33,
   "id": "916a3f87",
   "metadata": {},
   "outputs": [],
   "source": [
    "# Необходимо вычислить остаток на 01.07.2021, таким образом, остаток может сформироваться только за сделки за май и июнь."
   ]
  },
  {
   "cell_type": "code",
   "execution_count": 34,
   "id": "66cdbe3a",
   "metadata": {},
   "outputs": [],
   "source": [
    "# Создадим столбец для расчета остатка менеджеров"
   ]
  },
  {
   "cell_type": "code",
   "execution_count": 35,
   "id": "bb7cecc2",
   "metadata": {},
   "outputs": [
    {
     "data": {
      "text/html": [
       "<div>\n",
       "<style scoped>\n",
       "    .dataframe tbody tr th:only-of-type {\n",
       "        vertical-align: middle;\n",
       "    }\n",
       "\n",
       "    .dataframe tbody tr th {\n",
       "        vertical-align: top;\n",
       "    }\n",
       "\n",
       "    .dataframe thead th {\n",
       "        text-align: right;\n",
       "    }\n",
       "</style>\n",
       "<table border=\"1\" class=\"dataframe\">\n",
       "  <thead>\n",
       "    <tr style=\"text-align: right;\">\n",
       "      <th></th>\n",
       "      <th>client_id</th>\n",
       "      <th>sum</th>\n",
       "      <th>status</th>\n",
       "      <th>sale</th>\n",
       "      <th>new/current</th>\n",
       "      <th>document</th>\n",
       "      <th>receiving_date</th>\n",
       "      <th>month</th>\n",
       "      <th>year</th>\n",
       "      <th>remains</th>\n",
       "    </tr>\n",
       "  </thead>\n",
       "  <tbody>\n",
       "    <tr>\n",
       "      <th>1</th>\n",
       "      <td>6.0</td>\n",
       "      <td>11693.7</td>\n",
       "      <td>ВНУТРЕННИЙ</td>\n",
       "      <td>-</td>\n",
       "      <td>-</td>\n",
       "      <td>-</td>\n",
       "      <td>NaT</td>\n",
       "      <td>5</td>\n",
       "      <td>2021</td>\n",
       "      <td>NaN</td>\n",
       "    </tr>\n",
       "    <tr>\n",
       "      <th>2</th>\n",
       "      <td>14.0</td>\n",
       "      <td>5452.7</td>\n",
       "      <td>ОПЛАЧЕНО</td>\n",
       "      <td>Петрова</td>\n",
       "      <td>новая</td>\n",
       "      <td>оригинал</td>\n",
       "      <td>2021-07-26</td>\n",
       "      <td>5</td>\n",
       "      <td>2021</td>\n",
       "      <td>NaN</td>\n",
       "    </tr>\n",
       "    <tr>\n",
       "      <th>3</th>\n",
       "      <td>15.0</td>\n",
       "      <td>13991.7</td>\n",
       "      <td>ОПЛАЧЕНО</td>\n",
       "      <td>Иванов</td>\n",
       "      <td>текущая</td>\n",
       "      <td>оригинал</td>\n",
       "      <td>2021-06-08</td>\n",
       "      <td>5</td>\n",
       "      <td>2021</td>\n",
       "      <td>NaN</td>\n",
       "    </tr>\n",
       "    <tr>\n",
       "      <th>4</th>\n",
       "      <td>16.0</td>\n",
       "      <td>719.7</td>\n",
       "      <td>ОПЛАЧЕНО</td>\n",
       "      <td>Иванов</td>\n",
       "      <td>текущая</td>\n",
       "      <td>оригинал</td>\n",
       "      <td>2021-06-08</td>\n",
       "      <td>5</td>\n",
       "      <td>2021</td>\n",
       "      <td>NaN</td>\n",
       "    </tr>\n",
       "    <tr>\n",
       "      <th>5</th>\n",
       "      <td>18.0</td>\n",
       "      <td>4253.7</td>\n",
       "      <td>ОПЛАЧЕНО</td>\n",
       "      <td>Иванов</td>\n",
       "      <td>текущая</td>\n",
       "      <td>оригинал</td>\n",
       "      <td>2021-07-07</td>\n",
       "      <td>5</td>\n",
       "      <td>2021</td>\n",
       "      <td>NaN</td>\n",
       "    </tr>\n",
       "    <tr>\n",
       "      <th>...</th>\n",
       "      <td>...</td>\n",
       "      <td>...</td>\n",
       "      <td>...</td>\n",
       "      <td>...</td>\n",
       "      <td>...</td>\n",
       "      <td>...</td>\n",
       "      <td>...</td>\n",
       "      <td>...</td>\n",
       "      <td>...</td>\n",
       "      <td>...</td>\n",
       "    </tr>\n",
       "    <tr>\n",
       "      <th>725</th>\n",
       "      <td>285.0</td>\n",
       "      <td>4328.7</td>\n",
       "      <td>ОПЛАЧЕНО</td>\n",
       "      <td>Васильев</td>\n",
       "      <td>текущая</td>\n",
       "      <td>оригинал</td>\n",
       "      <td>2021-11-15</td>\n",
       "      <td>10</td>\n",
       "      <td>2021</td>\n",
       "      <td>NaN</td>\n",
       "    </tr>\n",
       "    <tr>\n",
       "      <th>726</th>\n",
       "      <td>360.0</td>\n",
       "      <td>3096.2</td>\n",
       "      <td>ОПЛАЧЕНО</td>\n",
       "      <td>Васильев</td>\n",
       "      <td>новая</td>\n",
       "      <td>НЕТ</td>\n",
       "      <td>NaT</td>\n",
       "      <td>10</td>\n",
       "      <td>2021</td>\n",
       "      <td>NaN</td>\n",
       "    </tr>\n",
       "    <tr>\n",
       "      <th>727</th>\n",
       "      <td>360.0</td>\n",
       "      <td>3096.2</td>\n",
       "      <td>ПРОСРОЧЕНО</td>\n",
       "      <td>Васильев</td>\n",
       "      <td>новая</td>\n",
       "      <td>НЕТ</td>\n",
       "      <td>NaT</td>\n",
       "      <td>10</td>\n",
       "      <td>2021</td>\n",
       "      <td>NaN</td>\n",
       "    </tr>\n",
       "    <tr>\n",
       "      <th>728</th>\n",
       "      <td>373.0</td>\n",
       "      <td>4403.7</td>\n",
       "      <td>ОПЛАЧЕНО</td>\n",
       "      <td>Михайлов</td>\n",
       "      <td>новая</td>\n",
       "      <td>оригинал</td>\n",
       "      <td>2021-11-08</td>\n",
       "      <td>10</td>\n",
       "      <td>2021</td>\n",
       "      <td>NaN</td>\n",
       "    </tr>\n",
       "    <tr>\n",
       "      <th>729</th>\n",
       "      <td>286.0</td>\n",
       "      <td>3978.7</td>\n",
       "      <td>ОПЛАЧЕНО</td>\n",
       "      <td>Филимонова</td>\n",
       "      <td>текущая</td>\n",
       "      <td>оригинал</td>\n",
       "      <td>2021-11-15</td>\n",
       "      <td>10</td>\n",
       "      <td>2021</td>\n",
       "      <td>NaN</td>\n",
       "    </tr>\n",
       "  </tbody>\n",
       "</table>\n",
       "<p>724 rows × 10 columns</p>\n",
       "</div>"
      ],
      "text/plain": [
       "     client_id      sum      status        sale new/current  document  \\\n",
       "1          6.0  11693.7  ВНУТРЕННИЙ           -           -         -   \n",
       "2         14.0   5452.7    ОПЛАЧЕНО     Петрова       новая  оригинал   \n",
       "3         15.0  13991.7    ОПЛАЧЕНО      Иванов     текущая  оригинал   \n",
       "4         16.0    719.7    ОПЛАЧЕНО      Иванов     текущая  оригинал   \n",
       "5         18.0   4253.7    ОПЛАЧЕНО      Иванов     текущая  оригинал   \n",
       "..         ...      ...         ...         ...         ...       ...   \n",
       "725      285.0   4328.7    ОПЛАЧЕНО    Васильев     текущая  оригинал   \n",
       "726      360.0   3096.2    ОПЛАЧЕНО    Васильев       новая       НЕТ   \n",
       "727      360.0   3096.2  ПРОСРОЧЕНО    Васильев       новая       НЕТ   \n",
       "728      373.0   4403.7    ОПЛАЧЕНО    Михайлов       новая  оригинал   \n",
       "729      286.0   3978.7    ОПЛАЧЕНО  Филимонова     текущая  оригинал   \n",
       "\n",
       "    receiving_date  month  year  remains  \n",
       "1              NaT      5  2021      NaN  \n",
       "2       2021-07-26      5  2021      NaN  \n",
       "3       2021-06-08      5  2021      NaN  \n",
       "4       2021-06-08      5  2021      NaN  \n",
       "5       2021-07-07      5  2021      NaN  \n",
       "..             ...    ...   ...      ...  \n",
       "725     2021-11-15     10  2021      NaN  \n",
       "726            NaT     10  2021      NaN  \n",
       "727            NaT     10  2021      NaN  \n",
       "728     2021-11-08     10  2021      NaN  \n",
       "729     2021-11-15     10  2021      NaN  \n",
       "\n",
       "[724 rows x 10 columns]"
      ]
     },
     "execution_count": 35,
     "metadata": {},
     "output_type": "execute_result"
    }
   ],
   "source": [
    "df2['remains'] = np.nan \n",
    "df2"
   ]
  },
  {
   "cell_type": "code",
   "execution_count": null,
   "id": "92432823",
   "metadata": {},
   "outputs": [],
   "source": [
    "# Далее пишем код, который умножает сумму на нужный коэффициент для вычисления процента если выполняется \n",
    "# соответствующее условие."
   ]
  },
  {
   "cell_type": "code",
   "execution_count": 36,
   "id": "37aeebb1",
   "metadata": {},
   "outputs": [],
   "source": [
    "df2['remains'] = np.where((df2['new/current'] == 'новая') & (df2['status'] == 'ОПЛАЧЕНО') & (df2['receiving_date'].dt.month > 6) & (df2['document'] == 'оригинал'), df2['sum'] * 0.07, np.where((df2['new/current'] == 'текущая') & (df2['sum'] > 10000) & (df2['status'] != 'ПРОСРОЧЕНО') & (df2['receiving_date'].dt.month > 6) & (df2['document'] == 'оригинал'), df2['sum'] * 0.05, np.where((df2['new/current'] == 'текущая') & (df2['sum'] <= 10000) & (df2['status'] != 'ПРОСРОЧЕНО') & (df2['receiving_date'].dt.month > 6) & (df2['document'] == 'оригинал'), df2['sum'] * 0.03, np.nan )))"
   ]
  },
  {
   "cell_type": "code",
   "execution_count": 37,
   "id": "5aadb279",
   "metadata": {},
   "outputs": [
    {
     "data": {
      "text/html": [
       "<div>\n",
       "<style scoped>\n",
       "    .dataframe tbody tr th:only-of-type {\n",
       "        vertical-align: middle;\n",
       "    }\n",
       "\n",
       "    .dataframe tbody tr th {\n",
       "        vertical-align: top;\n",
       "    }\n",
       "\n",
       "    .dataframe thead th {\n",
       "        text-align: right;\n",
       "    }\n",
       "</style>\n",
       "<table border=\"1\" class=\"dataframe\">\n",
       "  <thead>\n",
       "    <tr style=\"text-align: right;\">\n",
       "      <th></th>\n",
       "      <th>client_id</th>\n",
       "      <th>sum</th>\n",
       "      <th>status</th>\n",
       "      <th>sale</th>\n",
       "      <th>new/current</th>\n",
       "      <th>document</th>\n",
       "      <th>receiving_date</th>\n",
       "      <th>month</th>\n",
       "      <th>year</th>\n",
       "      <th>remains</th>\n",
       "    </tr>\n",
       "  </thead>\n",
       "  <tbody>\n",
       "    <tr>\n",
       "      <th>1</th>\n",
       "      <td>6.0</td>\n",
       "      <td>11693.7</td>\n",
       "      <td>ВНУТРЕННИЙ</td>\n",
       "      <td>-</td>\n",
       "      <td>-</td>\n",
       "      <td>-</td>\n",
       "      <td>NaT</td>\n",
       "      <td>5</td>\n",
       "      <td>2021</td>\n",
       "      <td>NaN</td>\n",
       "    </tr>\n",
       "    <tr>\n",
       "      <th>2</th>\n",
       "      <td>14.0</td>\n",
       "      <td>5452.7</td>\n",
       "      <td>ОПЛАЧЕНО</td>\n",
       "      <td>Петрова</td>\n",
       "      <td>новая</td>\n",
       "      <td>оригинал</td>\n",
       "      <td>2021-07-26</td>\n",
       "      <td>5</td>\n",
       "      <td>2021</td>\n",
       "      <td>381.689</td>\n",
       "    </tr>\n",
       "    <tr>\n",
       "      <th>3</th>\n",
       "      <td>15.0</td>\n",
       "      <td>13991.7</td>\n",
       "      <td>ОПЛАЧЕНО</td>\n",
       "      <td>Иванов</td>\n",
       "      <td>текущая</td>\n",
       "      <td>оригинал</td>\n",
       "      <td>2021-06-08</td>\n",
       "      <td>5</td>\n",
       "      <td>2021</td>\n",
       "      <td>NaN</td>\n",
       "    </tr>\n",
       "    <tr>\n",
       "      <th>4</th>\n",
       "      <td>16.0</td>\n",
       "      <td>719.7</td>\n",
       "      <td>ОПЛАЧЕНО</td>\n",
       "      <td>Иванов</td>\n",
       "      <td>текущая</td>\n",
       "      <td>оригинал</td>\n",
       "      <td>2021-06-08</td>\n",
       "      <td>5</td>\n",
       "      <td>2021</td>\n",
       "      <td>NaN</td>\n",
       "    </tr>\n",
       "    <tr>\n",
       "      <th>5</th>\n",
       "      <td>18.0</td>\n",
       "      <td>4253.7</td>\n",
       "      <td>ОПЛАЧЕНО</td>\n",
       "      <td>Иванов</td>\n",
       "      <td>текущая</td>\n",
       "      <td>оригинал</td>\n",
       "      <td>2021-07-07</td>\n",
       "      <td>5</td>\n",
       "      <td>2021</td>\n",
       "      <td>127.611</td>\n",
       "    </tr>\n",
       "    <tr>\n",
       "      <th>...</th>\n",
       "      <td>...</td>\n",
       "      <td>...</td>\n",
       "      <td>...</td>\n",
       "      <td>...</td>\n",
       "      <td>...</td>\n",
       "      <td>...</td>\n",
       "      <td>...</td>\n",
       "      <td>...</td>\n",
       "      <td>...</td>\n",
       "      <td>...</td>\n",
       "    </tr>\n",
       "    <tr>\n",
       "      <th>725</th>\n",
       "      <td>285.0</td>\n",
       "      <td>4328.7</td>\n",
       "      <td>ОПЛАЧЕНО</td>\n",
       "      <td>Васильев</td>\n",
       "      <td>текущая</td>\n",
       "      <td>оригинал</td>\n",
       "      <td>2021-11-15</td>\n",
       "      <td>10</td>\n",
       "      <td>2021</td>\n",
       "      <td>129.861</td>\n",
       "    </tr>\n",
       "    <tr>\n",
       "      <th>726</th>\n",
       "      <td>360.0</td>\n",
       "      <td>3096.2</td>\n",
       "      <td>ОПЛАЧЕНО</td>\n",
       "      <td>Васильев</td>\n",
       "      <td>новая</td>\n",
       "      <td>НЕТ</td>\n",
       "      <td>NaT</td>\n",
       "      <td>10</td>\n",
       "      <td>2021</td>\n",
       "      <td>NaN</td>\n",
       "    </tr>\n",
       "    <tr>\n",
       "      <th>727</th>\n",
       "      <td>360.0</td>\n",
       "      <td>3096.2</td>\n",
       "      <td>ПРОСРОЧЕНО</td>\n",
       "      <td>Васильев</td>\n",
       "      <td>новая</td>\n",
       "      <td>НЕТ</td>\n",
       "      <td>NaT</td>\n",
       "      <td>10</td>\n",
       "      <td>2021</td>\n",
       "      <td>NaN</td>\n",
       "    </tr>\n",
       "    <tr>\n",
       "      <th>728</th>\n",
       "      <td>373.0</td>\n",
       "      <td>4403.7</td>\n",
       "      <td>ОПЛАЧЕНО</td>\n",
       "      <td>Михайлов</td>\n",
       "      <td>новая</td>\n",
       "      <td>оригинал</td>\n",
       "      <td>2021-11-08</td>\n",
       "      <td>10</td>\n",
       "      <td>2021</td>\n",
       "      <td>308.259</td>\n",
       "    </tr>\n",
       "    <tr>\n",
       "      <th>729</th>\n",
       "      <td>286.0</td>\n",
       "      <td>3978.7</td>\n",
       "      <td>ОПЛАЧЕНО</td>\n",
       "      <td>Филимонова</td>\n",
       "      <td>текущая</td>\n",
       "      <td>оригинал</td>\n",
       "      <td>2021-11-15</td>\n",
       "      <td>10</td>\n",
       "      <td>2021</td>\n",
       "      <td>119.361</td>\n",
       "    </tr>\n",
       "  </tbody>\n",
       "</table>\n",
       "<p>724 rows × 10 columns</p>\n",
       "</div>"
      ],
      "text/plain": [
       "     client_id      sum      status        sale new/current  document  \\\n",
       "1          6.0  11693.7  ВНУТРЕННИЙ           -           -         -   \n",
       "2         14.0   5452.7    ОПЛАЧЕНО     Петрова       новая  оригинал   \n",
       "3         15.0  13991.7    ОПЛАЧЕНО      Иванов     текущая  оригинал   \n",
       "4         16.0    719.7    ОПЛАЧЕНО      Иванов     текущая  оригинал   \n",
       "5         18.0   4253.7    ОПЛАЧЕНО      Иванов     текущая  оригинал   \n",
       "..         ...      ...         ...         ...         ...       ...   \n",
       "725      285.0   4328.7    ОПЛАЧЕНО    Васильев     текущая  оригинал   \n",
       "726      360.0   3096.2    ОПЛАЧЕНО    Васильев       новая       НЕТ   \n",
       "727      360.0   3096.2  ПРОСРОЧЕНО    Васильев       новая       НЕТ   \n",
       "728      373.0   4403.7    ОПЛАЧЕНО    Михайлов       новая  оригинал   \n",
       "729      286.0   3978.7    ОПЛАЧЕНО  Филимонова     текущая  оригинал   \n",
       "\n",
       "    receiving_date  month  year  remains  \n",
       "1              NaT      5  2021      NaN  \n",
       "2       2021-07-26      5  2021  381.689  \n",
       "3       2021-06-08      5  2021      NaN  \n",
       "4       2021-06-08      5  2021      NaN  \n",
       "5       2021-07-07      5  2021  127.611  \n",
       "..             ...    ...   ...      ...  \n",
       "725     2021-11-15     10  2021  129.861  \n",
       "726            NaT     10  2021      NaN  \n",
       "727            NaT     10  2021      NaN  \n",
       "728     2021-11-08     10  2021  308.259  \n",
       "729     2021-11-15     10  2021  119.361  \n",
       "\n",
       "[724 rows x 10 columns]"
      ]
     },
     "execution_count": 37,
     "metadata": {},
     "output_type": "execute_result"
    }
   ],
   "source": [
    "df2"
   ]
  },
  {
   "cell_type": "code",
   "execution_count": 38,
   "id": "3328f117",
   "metadata": {},
   "outputs": [],
   "source": [
    "# теперь осталось посчитать сумму остатка для каждого менеджера, учитывая что нам нужно рассмотреть сделки за май и июнь"
   ]
  },
  {
   "cell_type": "code",
   "execution_count": 42,
   "id": "440adfd6",
   "metadata": {},
   "outputs": [],
   "source": [
    "results3 = df2[df2['month'] <=6 ].groupby('sale').sum().round(2)"
   ]
  },
  {
   "cell_type": "code",
   "execution_count": 43,
   "id": "44d4fe32",
   "metadata": {},
   "outputs": [
    {
     "data": {
      "text/html": [
       "<div>\n",
       "<style scoped>\n",
       "    .dataframe tbody tr th:only-of-type {\n",
       "        vertical-align: middle;\n",
       "    }\n",
       "\n",
       "    .dataframe tbody tr th {\n",
       "        vertical-align: top;\n",
       "    }\n",
       "\n",
       "    .dataframe thead th {\n",
       "        text-align: right;\n",
       "    }\n",
       "</style>\n",
       "<table border=\"1\" class=\"dataframe\">\n",
       "  <thead>\n",
       "    <tr style=\"text-align: right;\">\n",
       "      <th></th>\n",
       "      <th>client_id</th>\n",
       "      <th>sum</th>\n",
       "      <th>month</th>\n",
       "      <th>remains</th>\n",
       "    </tr>\n",
       "    <tr>\n",
       "      <th>sale</th>\n",
       "      <th></th>\n",
       "      <th></th>\n",
       "      <th></th>\n",
       "      <th></th>\n",
       "    </tr>\n",
       "  </thead>\n",
       "  <tbody>\n",
       "    <tr>\n",
       "      <th>-</th>\n",
       "      <td>6.0</td>\n",
       "      <td>11693.70</td>\n",
       "      <td>5</td>\n",
       "      <td>0.00</td>\n",
       "    </tr>\n",
       "    <tr>\n",
       "      <th>Андреев</th>\n",
       "      <td>4171.0</td>\n",
       "      <td>204029.08</td>\n",
       "      <td>159</td>\n",
       "      <td>3945.83</td>\n",
       "    </tr>\n",
       "    <tr>\n",
       "      <th>Васильев</th>\n",
       "      <td>1865.0</td>\n",
       "      <td>41632.80</td>\n",
       "      <td>78</td>\n",
       "      <td>1037.05</td>\n",
       "    </tr>\n",
       "    <tr>\n",
       "      <th>Иванов</th>\n",
       "      <td>2888.0</td>\n",
       "      <td>207256.70</td>\n",
       "      <td>138</td>\n",
       "      <td>5991.45</td>\n",
       "    </tr>\n",
       "    <tr>\n",
       "      <th>Кузнецова</th>\n",
       "      <td>6594.0</td>\n",
       "      <td>220215.51</td>\n",
       "      <td>247</td>\n",
       "      <td>4496.95</td>\n",
       "    </tr>\n",
       "    <tr>\n",
       "      <th>Петрова</th>\n",
       "      <td>9149.0</td>\n",
       "      <td>446750.48</td>\n",
       "      <td>406</td>\n",
       "      <td>10770.75</td>\n",
       "    </tr>\n",
       "    <tr>\n",
       "      <th>Селиванов</th>\n",
       "      <td>2142.0</td>\n",
       "      <td>105759.20</td>\n",
       "      <td>88</td>\n",
       "      <td>5297.69</td>\n",
       "    </tr>\n",
       "    <tr>\n",
       "      <th>Смирнов</th>\n",
       "      <td>5709.0</td>\n",
       "      <td>278734.90</td>\n",
       "      <td>176</td>\n",
       "      <td>6430.26</td>\n",
       "    </tr>\n",
       "    <tr>\n",
       "      <th>Соколов</th>\n",
       "      <td>85.0</td>\n",
       "      <td>8973.70</td>\n",
       "      <td>6</td>\n",
       "      <td>269.21</td>\n",
       "    </tr>\n",
       "    <tr>\n",
       "      <th>Филимонова</th>\n",
       "      <td>3073.0</td>\n",
       "      <td>94792.23</td>\n",
       "      <td>105</td>\n",
       "      <td>2317.96</td>\n",
       "    </tr>\n",
       "  </tbody>\n",
       "</table>\n",
       "</div>"
      ],
      "text/plain": [
       "            client_id        sum  month   remains\n",
       "sale                                             \n",
       "-                 6.0   11693.70      5      0.00\n",
       "Андреев        4171.0  204029.08    159   3945.83\n",
       "Васильев       1865.0   41632.80     78   1037.05\n",
       "Иванов         2888.0  207256.70    138   5991.45\n",
       "Кузнецова      6594.0  220215.51    247   4496.95\n",
       "Петрова        9149.0  446750.48    406  10770.75\n",
       "Селиванов      2142.0  105759.20     88   5297.69\n",
       "Смирнов        5709.0  278734.90    176   6430.26\n",
       "Соколов          85.0    8973.70      6    269.21\n",
       "Филимонова     3073.0   94792.23    105   2317.96"
      ]
     },
     "execution_count": 43,
     "metadata": {},
     "output_type": "execute_result"
    }
   ],
   "source": [
    "results3"
   ]
  },
  {
   "cell_type": "code",
   "execution_count": 44,
   "id": "58ace4ce",
   "metadata": {},
   "outputs": [
    {
     "data": {
      "text/html": [
       "<div>\n",
       "<style scoped>\n",
       "    .dataframe tbody tr th:only-of-type {\n",
       "        vertical-align: middle;\n",
       "    }\n",
       "\n",
       "    .dataframe tbody tr th {\n",
       "        vertical-align: top;\n",
       "    }\n",
       "\n",
       "    .dataframe thead th {\n",
       "        text-align: right;\n",
       "    }\n",
       "</style>\n",
       "<table border=\"1\" class=\"dataframe\">\n",
       "  <thead>\n",
       "    <tr style=\"text-align: right;\">\n",
       "      <th></th>\n",
       "      <th>client_id</th>\n",
       "      <th>sum</th>\n",
       "      <th>month</th>\n",
       "      <th>remains</th>\n",
       "    </tr>\n",
       "    <tr>\n",
       "      <th>sale</th>\n",
       "      <th></th>\n",
       "      <th></th>\n",
       "      <th></th>\n",
       "      <th></th>\n",
       "    </tr>\n",
       "  </thead>\n",
       "  <tbody>\n",
       "    <tr>\n",
       "      <th>Андреев</th>\n",
       "      <td>4171.0</td>\n",
       "      <td>204029.08</td>\n",
       "      <td>159</td>\n",
       "      <td>3945.83</td>\n",
       "    </tr>\n",
       "    <tr>\n",
       "      <th>Васильев</th>\n",
       "      <td>1865.0</td>\n",
       "      <td>41632.80</td>\n",
       "      <td>78</td>\n",
       "      <td>1037.05</td>\n",
       "    </tr>\n",
       "    <tr>\n",
       "      <th>Иванов</th>\n",
       "      <td>2888.0</td>\n",
       "      <td>207256.70</td>\n",
       "      <td>138</td>\n",
       "      <td>5991.45</td>\n",
       "    </tr>\n",
       "    <tr>\n",
       "      <th>Кузнецова</th>\n",
       "      <td>6594.0</td>\n",
       "      <td>220215.51</td>\n",
       "      <td>247</td>\n",
       "      <td>4496.95</td>\n",
       "    </tr>\n",
       "    <tr>\n",
       "      <th>Петрова</th>\n",
       "      <td>9149.0</td>\n",
       "      <td>446750.48</td>\n",
       "      <td>406</td>\n",
       "      <td>10770.75</td>\n",
       "    </tr>\n",
       "    <tr>\n",
       "      <th>Селиванов</th>\n",
       "      <td>2142.0</td>\n",
       "      <td>105759.20</td>\n",
       "      <td>88</td>\n",
       "      <td>5297.69</td>\n",
       "    </tr>\n",
       "    <tr>\n",
       "      <th>Смирнов</th>\n",
       "      <td>5709.0</td>\n",
       "      <td>278734.90</td>\n",
       "      <td>176</td>\n",
       "      <td>6430.26</td>\n",
       "    </tr>\n",
       "    <tr>\n",
       "      <th>Соколов</th>\n",
       "      <td>85.0</td>\n",
       "      <td>8973.70</td>\n",
       "      <td>6</td>\n",
       "      <td>269.21</td>\n",
       "    </tr>\n",
       "    <tr>\n",
       "      <th>Филимонова</th>\n",
       "      <td>3073.0</td>\n",
       "      <td>94792.23</td>\n",
       "      <td>105</td>\n",
       "      <td>2317.96</td>\n",
       "    </tr>\n",
       "  </tbody>\n",
       "</table>\n",
       "</div>"
      ],
      "text/plain": [
       "            client_id        sum  month   remains\n",
       "sale                                             \n",
       "Андреев        4171.0  204029.08    159   3945.83\n",
       "Васильев       1865.0   41632.80     78   1037.05\n",
       "Иванов         2888.0  207256.70    138   5991.45\n",
       "Кузнецова      6594.0  220215.51    247   4496.95\n",
       "Петрова        9149.0  446750.48    406  10770.75\n",
       "Селиванов      2142.0  105759.20     88   5297.69\n",
       "Смирнов        5709.0  278734.90    176   6430.26\n",
       "Соколов          85.0    8973.70      6    269.21\n",
       "Филимонова     3073.0   94792.23    105   2317.96"
      ]
     },
     "execution_count": 44,
     "metadata": {},
     "output_type": "execute_result"
    }
   ],
   "source": [
    "results3 = results3.drop(index=['-'])\n",
    "results3"
   ]
  },
  {
   "cell_type": "markdown",
   "id": "238f0d3f",
   "metadata": {},
   "source": [
    "Выше в столбце remains приведен остаток каждого менеджера на 01.07.2021"
   ]
  },
  {
   "cell_type": "code",
   "execution_count": null,
   "id": "350c1bdf",
   "metadata": {},
   "outputs": [],
   "source": []
  }
 ],
 "metadata": {
  "kernelspec": {
   "display_name": "Python 3",
   "language": "python",
   "name": "python3"
  },
  "language_info": {
   "codemirror_mode": {
    "name": "ipython",
    "version": 3
   },
   "file_extension": ".py",
   "mimetype": "text/x-python",
   "name": "python",
   "nbconvert_exporter": "python",
   "pygments_lexer": "ipython3",
   "version": "3.7.6"
  }
 },
 "nbformat": 4,
 "nbformat_minor": 5
}
